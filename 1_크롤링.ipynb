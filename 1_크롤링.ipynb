{
  "nbformat": 4,
  "nbformat_minor": 0,
  "metadata": {
    "colab": {
      "provenance": [],
      "authorship_tag": "ABX9TyMLnFUyKjj0IQNx9QS9mAwm",
      "include_colab_link": true
    },
    "kernelspec": {
      "name": "python3",
      "display_name": "Python 3"
    },
    "language_info": {
      "name": "python"
    }
  },
  "cells": [
    {
      "cell_type": "markdown",
      "metadata": {
        "id": "view-in-github",
        "colab_type": "text"
      },
      "source": [
        "<a href=\"https://colab.research.google.com/github/sakongmyoungheun/homework/blob/master/1_%ED%81%AC%EB%A1%A4%EB%A7%81.ipynb\" target=\"_parent\"><img src=\"https://colab.research.google.com/assets/colab-badge.svg\" alt=\"Open In Colab\"/></a>"
      ]
    },
    {
      "cell_type": "markdown",
      "source": [
        "# 1. 크롤링고 스크레이핑\n",
        "* 크롤링(Crawling) : 인터넷의 데이터를 활용하기 위해 정보들을 분석하고 활용할 수 있도록 수집하는 행위\n",
        "* 스크레이핑(Scraping) : 크롤링 + 데이터를 추출하고 가공하는 행위"
      ],
      "metadata": {
        "id": "_KdDRr2oY07M"
      }
    },
    {
      "cell_type": "markdown",
      "source": [
        "# 2. Basic English Speaking\n"
      ],
      "metadata": {
        "id": "TenhiSm8ZQue"
      }
    },
    {
      "cell_type": "code",
      "source": [
        "import requests\n",
        "from bs4 import BeautifulSoup"
      ],
      "metadata": {
        "id": "IBLsj-WqbCOA"
      },
      "execution_count": null,
      "outputs": []
    },
    {
      "cell_type": "code",
      "source": [
        "site = 'https://basicenglishspeaking.com/daily-english-conversation-topics/'\n",
        "request = requests.get(site)\n",
        "# print(request)\n",
        "# print(request.text)"
      ],
      "metadata": {
        "id": "BbSecZLTbOwu"
      },
      "execution_count": null,
      "outputs": []
    },
    {
      "cell_type": "code",
      "source": [
        "soup = BeautifulSoup(request.text)"
      ],
      "metadata": {
        "id": "7Ng_EcGIb0L6"
      },
      "execution_count": null,
      "outputs": []
    },
    {
      "cell_type": "code",
      "source": [
        "divs = soup.find('div',{'class':'thrv-columns'})\n",
        "print(divs)"
      ],
      "metadata": {
        "colab": {
          "base_uri": "https://localhost:8080/"
        },
        "id": "j69vhKlmc4yK",
        "outputId": "ee0d304b-e99b-443d-b44b-a4611666b9cc"
      },
      "execution_count": null,
      "outputs": [
        {
          "output_type": "stream",
          "name": "stdout",
          "text": [
            "<div class=\"thrv_wrapper thrv-columns\" style=\"--tcb-col-el-width:792;\"><div class=\"tcb-flex-row tcb--cols--3\"><div class=\"tcb-flex-col\"><div class=\"tcb-col\"><div class=\"thrv_wrapper thrv_text_element\"><p>1. <a class=\"tve-froala\" href=\"https://basicenglishspeaking.com/family/\" style=\"outline: none;\">Family</a><br/>2. <a class=\"tve-froala\" href=\"https://basicenglishspeaking.com/restaurant/\" style=\"outline: none;\">Restaurant</a><br/>3. <a href=\"https://basicenglishspeaking.com/books/\">Books</a><br/>4. <a href=\"https://basicenglishspeaking.com/travel/\">Travel</a><br/>5. <a href=\"https://basicenglishspeaking.com/website/\">Website</a><br/>6. <a href=\"https://basicenglishspeaking.com/accident/\">Accident</a><br/>7. <a class=\"tve-froala\" href=\"https://basicenglishspeaking.com/childhood-memory/\" style=\"outline: none;\">Childhood memory</a><br/>8. <a class=\"tve-froala\" href=\"https://basicenglishspeaking.com/favorite-rooms/\" style=\"outline: none;\">Favorite rooms</a><br/>9. <a href=\"https://basicenglishspeaking.com/presents/\">Presents</a><br/>10. <a class=\"tve-froala\" href=\"https://basicenglishspeaking.com/historical-place/\" style=\"outline: none;\">Historical place</a><br/>11. <a class=\"tve-froala\" href=\"https://basicenglishspeaking.com/newspaper-magazine/\" style=\"outline: none;\">Newspaper/ Magazine</a><br/>12. <a href=\"https://basicenglishspeaking.com/an-event/\">A memorable event</a><br/>13. <a href=\"https://basicenglishspeaking.com/a-subject/\">A favorite subject</a><br/>14. <a href=\"https://basicenglishspeaking.com/a-museum/\">A museum</a><br/>15. <a href=\"https://basicenglishspeaking.com/a-movie/\">A favorite movie</a><br/>16. <a href=\"https://basicenglishspeaking.com/a-foreign-country/\">A foreign country</a><br/>17. <a href=\"https://basicenglishspeaking.com/parties/\">Parties</a><br/>18. <a href=\"https://basicenglishspeaking.com/a-teacher/\">A teacher</a><br/>19. <a href=\"https://basicenglishspeaking.com/a-friend/\">A friend</a><br/>20. <a href=\"https://basicenglishspeaking.com/a-hotel/\">A hotel</a><br/>21. <a href=\"https://basicenglishspeaking.com/a-letter/\">A letter</a><br/>22. <a href=\"https://basicenglishspeaking.com/hobbies/\">Hobbies</a><br/>23. <a href=\"https://basicenglishspeaking.com/music/\">Music</a><br/>24. <a href=\"https://basicenglishspeaking.com/shopping/\">Shopping</a><br/>25. <a href=\"https://basicenglishspeaking.com/holiday/\">Holiday</a></p></div></div></div><div class=\"tcb-flex-col\"><div class=\"tcb-col\"><div class=\"thrv_wrapper thrv_text_element\"><p>26. <a class=\"tve-froala\" href=\"https://basicenglishspeaking.com/animals/\" style=\"outline: none;\">Animals</a><br/>27. <a class=\"tve-froala\" href=\"https://basicenglishspeaking.com/a-practical-skill/\" style=\"outline: none;\">A practical skill</a><br/>28. <a href=\"https://basicenglishspeaking.com/sports/\">Sport</a><br/>29. <a href=\"https://basicenglishspeaking.com/a-school/\">A School</a><br/>30. <a href=\"https://basicenglishspeaking.com/festival/\">Festival</a><br/>31. <a href=\"https://basicenglishspeaking.com/food/\">Food</a><br/>32. <a href=\"https://basicenglishspeaking.com/household-appliance/\">Household appliance</a><br/>33. <a href=\"https://basicenglishspeaking.com/a-music-band/\">A music band</a><br/>34. <a href=\"https://basicenglishspeaking.com/weather/\">Weather</a><br/>35. <a href=\"https://basicenglishspeaking.com/neighbor/\">Neighbor</a><br/>36. <a href=\"https://basicenglishspeaking.com/natural-scenery/\">Natural scenery</a><br/>37. <a href=\"https://basicenglishspeaking.com/outdoor-activities/\">Outdoor activities</a><br/>38. <a href=\"https://basicenglishspeaking.com/law/\">Law</a><br/>39. <a href=\"https://basicenglishspeaking.com/pollution/\">Pollution</a><br/>40. <a href=\"https://basicenglishspeaking.com/traffic-jam/\">Traffic jam</a><br/>41. <a href=\"https://basicenglishspeaking.com/tv-program/\">TV program</a><br/>42. <a href=\"https://basicenglishspeaking.com/architecture-building/\">Architect/ Building</a><br/>43. <a href=\"https://basicenglishspeaking.com/electronic-media/\">Electronic Media</a><br/>44. <a href=\"https://basicenglishspeaking.com/job-career/\">Job/ Career</a><br/>45. <a href=\"https://basicenglishspeaking.com/competition-contest/\">Competition/ contest</a><br/>46. <a href=\"https://basicenglishspeaking.com/a-garden/\">A garden</a><br/>47. <a href=\"https://basicenglishspeaking.com/hometown/\">Hometown</a><br/>48. <a href=\"https://basicenglishspeaking.com/clothing/\">Clothing</a><br/>49. <a href=\"https://basicenglishspeaking.com/an-advertisement/\">Advertisement</a><br/>50. <a href=\"https://basicenglishspeaking.com/a-project/\">A project</a></p></div></div></div><div class=\"tcb-flex-col\"><div class=\"tcb-col\"><div class=\"thrv_wrapper thrv_text_element\"><p>51. <a href=\"https://basicenglishspeaking.com/a-wedding/\">A wedding</a><br/>52. <a href=\"https://basicenglishspeaking.com/a-coffee-shop/\">A Coffee shop</a><br/>53. <a href=\"https://basicenglishspeaking.com/culture/\">Culture</a><br/>54. <a href=\"https://basicenglishspeaking.com/transport/\">Transport</a><br/>55. <a href=\"https://basicenglishspeaking.com/politician/\">Politician</a><br/>56. <a href=\"https://basicenglishspeaking.com/communication/\">Communication</a><br/>57. <a href=\"https://basicenglishspeaking.com/business/\">Business</a><br/>58. <a href=\"https://basicenglishspeaking.com/computer/\">Computer</a><br/>59. <a href=\"https://basicenglishspeaking.com/exercise/\">Exercise</a><br/>60. <a href=\"https://basicenglishspeaking.com/goal-ambition/\">Goal/ ambition</a><br/>61. <a href=\"https://basicenglishspeaking.com/art/\">Art</a><br/>62. <a href=\"https://basicenglishspeaking.com/fashion/\">Fashion</a><br/>63. <a href=\"https://basicenglishspeaking.com/jewelry/\">Jewelry</a><br/>64. <a href=\"https://basicenglishspeaking.com/cosmetic/\">Cosmetic</a><br/>65. <a href=\"https://basicenglishspeaking.com/indoor-game/\">Indoor Game</a><br/>66. <a href=\"https://basicenglishspeaking.com/phone-conversation/\">Phone conversation</a><br/>67. <a href=\"https://basicenglishspeaking.com/learning-second-language/\">Learning A Second language</a><br/>68. <a href=\"https://basicenglishspeaking.com/a-creative-person/\">A Creative Person</a><br/>69. <a href=\"https://basicenglishspeaking.com/a-celebrity/\">A celebrity</a><br/>70. <a href=\"https://basicenglishspeaking.com/a-health-problem/\">A Health Problem</a><br/>71. <a href=\"https://basicenglishspeaking.com/technological-advancements/\">Technological advancements</a><br/>72. <a href=\"https://basicenglishspeaking.com/a-landmark/\">A Landmark</a><br/>73. <a href=\"https://basicenglishspeaking.com/handcraft-items/\">Handcraft Items</a><br/>74. <a href=\"https://basicenglishspeaking.com/plastic-surgery/\">Plastic Surgery</a><br/>75. <a href=\"https://basicenglishspeaking.com/success/\">Success</a></p></div></div></div></div></div>\n"
          ]
        }
      ]
    },
    {
      "cell_type": "code",
      "source": [
        "links = divs.findAll('a')\n",
        "print(links)"
      ],
      "metadata": {
        "colab": {
          "base_uri": "https://localhost:8080/"
        },
        "id": "t6tCRpiedKhE",
        "outputId": "3860af1f-d627-4098-ce97-5d1d9bd438e9"
      },
      "execution_count": null,
      "outputs": [
        {
          "output_type": "stream",
          "name": "stdout",
          "text": [
            "[<a class=\"tve-froala\" href=\"https://basicenglishspeaking.com/family/\" style=\"outline: none;\">Family</a>, <a class=\"tve-froala\" href=\"https://basicenglishspeaking.com/restaurant/\" style=\"outline: none;\">Restaurant</a>, <a href=\"https://basicenglishspeaking.com/books/\">Books</a>, <a href=\"https://basicenglishspeaking.com/travel/\">Travel</a>, <a href=\"https://basicenglishspeaking.com/website/\">Website</a>, <a href=\"https://basicenglishspeaking.com/accident/\">Accident</a>, <a class=\"tve-froala\" href=\"https://basicenglishspeaking.com/childhood-memory/\" style=\"outline: none;\">Childhood memory</a>, <a class=\"tve-froala\" href=\"https://basicenglishspeaking.com/favorite-rooms/\" style=\"outline: none;\">Favorite rooms</a>, <a href=\"https://basicenglishspeaking.com/presents/\">Presents</a>, <a class=\"tve-froala\" href=\"https://basicenglishspeaking.com/historical-place/\" style=\"outline: none;\">Historical place</a>, <a class=\"tve-froala\" href=\"https://basicenglishspeaking.com/newspaper-magazine/\" style=\"outline: none;\">Newspaper/ Magazine</a>, <a href=\"https://basicenglishspeaking.com/an-event/\">A memorable event</a>, <a href=\"https://basicenglishspeaking.com/a-subject/\">A favorite subject</a>, <a href=\"https://basicenglishspeaking.com/a-museum/\">A museum</a>, <a href=\"https://basicenglishspeaking.com/a-movie/\">A favorite movie</a>, <a href=\"https://basicenglishspeaking.com/a-foreign-country/\">A foreign country</a>, <a href=\"https://basicenglishspeaking.com/parties/\">Parties</a>, <a href=\"https://basicenglishspeaking.com/a-teacher/\">A teacher</a>, <a href=\"https://basicenglishspeaking.com/a-friend/\">A friend</a>, <a href=\"https://basicenglishspeaking.com/a-hotel/\">A hotel</a>, <a href=\"https://basicenglishspeaking.com/a-letter/\">A letter</a>, <a href=\"https://basicenglishspeaking.com/hobbies/\">Hobbies</a>, <a href=\"https://basicenglishspeaking.com/music/\">Music</a>, <a href=\"https://basicenglishspeaking.com/shopping/\">Shopping</a>, <a href=\"https://basicenglishspeaking.com/holiday/\">Holiday</a>, <a class=\"tve-froala\" href=\"https://basicenglishspeaking.com/animals/\" style=\"outline: none;\">Animals</a>, <a class=\"tve-froala\" href=\"https://basicenglishspeaking.com/a-practical-skill/\" style=\"outline: none;\">A practical skill</a>, <a href=\"https://basicenglishspeaking.com/sports/\">Sport</a>, <a href=\"https://basicenglishspeaking.com/a-school/\">A School</a>, <a href=\"https://basicenglishspeaking.com/festival/\">Festival</a>, <a href=\"https://basicenglishspeaking.com/food/\">Food</a>, <a href=\"https://basicenglishspeaking.com/household-appliance/\">Household appliance</a>, <a href=\"https://basicenglishspeaking.com/a-music-band/\">A music band</a>, <a href=\"https://basicenglishspeaking.com/weather/\">Weather</a>, <a href=\"https://basicenglishspeaking.com/neighbor/\">Neighbor</a>, <a href=\"https://basicenglishspeaking.com/natural-scenery/\">Natural scenery</a>, <a href=\"https://basicenglishspeaking.com/outdoor-activities/\">Outdoor activities</a>, <a href=\"https://basicenglishspeaking.com/law/\">Law</a>, <a href=\"https://basicenglishspeaking.com/pollution/\">Pollution</a>, <a href=\"https://basicenglishspeaking.com/traffic-jam/\">Traffic jam</a>, <a href=\"https://basicenglishspeaking.com/tv-program/\">TV program</a>, <a href=\"https://basicenglishspeaking.com/architecture-building/\">Architect/ Building</a>, <a href=\"https://basicenglishspeaking.com/electronic-media/\">Electronic Media</a>, <a href=\"https://basicenglishspeaking.com/job-career/\">Job/ Career</a>, <a href=\"https://basicenglishspeaking.com/competition-contest/\">Competition/ contest</a>, <a href=\"https://basicenglishspeaking.com/a-garden/\">A garden</a>, <a href=\"https://basicenglishspeaking.com/hometown/\">Hometown</a>, <a href=\"https://basicenglishspeaking.com/clothing/\">Clothing</a>, <a href=\"https://basicenglishspeaking.com/an-advertisement/\">Advertisement</a>, <a href=\"https://basicenglishspeaking.com/a-project/\">A project</a>, <a href=\"https://basicenglishspeaking.com/a-wedding/\">A wedding</a>, <a href=\"https://basicenglishspeaking.com/a-coffee-shop/\">A Coffee shop</a>, <a href=\"https://basicenglishspeaking.com/culture/\">Culture</a>, <a href=\"https://basicenglishspeaking.com/transport/\">Transport</a>, <a href=\"https://basicenglishspeaking.com/politician/\">Politician</a>, <a href=\"https://basicenglishspeaking.com/communication/\">Communication</a>, <a href=\"https://basicenglishspeaking.com/business/\">Business</a>, <a href=\"https://basicenglishspeaking.com/computer/\">Computer</a>, <a href=\"https://basicenglishspeaking.com/exercise/\">Exercise</a>, <a href=\"https://basicenglishspeaking.com/goal-ambition/\">Goal/ ambition</a>, <a href=\"https://basicenglishspeaking.com/art/\">Art</a>, <a href=\"https://basicenglishspeaking.com/fashion/\">Fashion</a>, <a href=\"https://basicenglishspeaking.com/jewelry/\">Jewelry</a>, <a href=\"https://basicenglishspeaking.com/cosmetic/\">Cosmetic</a>, <a href=\"https://basicenglishspeaking.com/indoor-game/\">Indoor Game</a>, <a href=\"https://basicenglishspeaking.com/phone-conversation/\">Phone conversation</a>, <a href=\"https://basicenglishspeaking.com/learning-second-language/\">Learning A Second language</a>, <a href=\"https://basicenglishspeaking.com/a-creative-person/\">A Creative Person</a>, <a href=\"https://basicenglishspeaking.com/a-celebrity/\">A celebrity</a>, <a href=\"https://basicenglishspeaking.com/a-health-problem/\">A Health Problem</a>, <a href=\"https://basicenglishspeaking.com/technological-advancements/\">Technological advancements</a>, <a href=\"https://basicenglishspeaking.com/a-landmark/\">A Landmark</a>, <a href=\"https://basicenglishspeaking.com/handcraft-items/\">Handcraft Items</a>, <a href=\"https://basicenglishspeaking.com/plastic-surgery/\">Plastic Surgery</a>, <a href=\"https://basicenglishspeaking.com/success/\">Success</a>]\n"
          ]
        }
      ]
    },
    {
      "cell_type": "code",
      "source": [
        "for link in links:\n",
        "    print(link.text)"
      ],
      "metadata": {
        "id": "IowQWRSSeFbR"
      },
      "execution_count": null,
      "outputs": []
    },
    {
      "cell_type": "code",
      "source": [
        "subject = []\n",
        "for link in links:\n",
        "    subject.append(link.text)"
      ],
      "metadata": {
        "id": "nleFKZxjeMkd"
      },
      "execution_count": null,
      "outputs": []
    },
    {
      "cell_type": "code",
      "source": [
        "len(subject)"
      ],
      "metadata": {
        "colab": {
          "base_uri": "https://localhost:8080/"
        },
        "id": "smW1t6PsebFe",
        "outputId": "fed04224-34d2-4d54-c67a-3368e0fcc336"
      },
      "execution_count": null,
      "outputs": [
        {
          "output_type": "execute_result",
          "data": {
            "text/plain": [
              "75"
            ]
          },
          "metadata": {},
          "execution_count": 14
        }
      ]
    },
    {
      "cell_type": "code",
      "source": [
        "print('총', len(subject),'개의 주제를 찾았습니다')\n",
        "for i in range(len(subject)):\n",
        "    print('{0:2d},{1:s}'.format(i+1,subject[i]))"
      ],
      "metadata": {
        "id": "fhA4drwwefU5"
      },
      "execution_count": null,
      "outputs": []
    },
    {
      "cell_type": "markdown",
      "source": [
        "# 3. Daum 뉴스 기사"
      ],
      "metadata": {
        "id": "zVR0ynBEfAwS"
      }
    },
    {
      "cell_type": "code",
      "source": [
        "# https://v.daum.net/v/20231122080018178\n",
        "# https://v.daum.net/v/20231122091611384\n",
        "# https://v.daum.net/v/20231122050116960\n",
        "\n",
        "def daum_news_title(news_id):\n",
        "    url = 'https://v.daum.net/v/{}'.format(news_id)\n",
        "    request = requests.get(url)\n",
        "    soup = BeautifulSoup(request.text)\n",
        "    title = soup.find('h3',{'class':'tit_view'})\n",
        "    if title:\n",
        "        return title.text.strip()\n",
        "    return print('제목없음')"
      ],
      "metadata": {
        "id": "yNB3qMIKfb3M"
      },
      "execution_count": null,
      "outputs": []
    },
    {
      "cell_type": "code",
      "source": [
        "daum_news_title(20231122080018178)\n",
        "daum_news_title(20231122091611384)"
      ],
      "metadata": {
        "colab": {
          "base_uri": "https://localhost:8080/",
          "height": 35
        },
        "id": "62tQNkPAgtoM",
        "outputId": "7b59b126-1657-479a-85d5-3ff5d12a17b8"
      },
      "execution_count": null,
      "outputs": [
        {
          "output_type": "execute_result",
          "data": {
            "text/plain": [
              "'춘천서 횡단보도 건너던 보행자 3명, 승용차에 치여 숨져(종합)'"
            ],
            "application/vnd.google.colaboratory.intrinsic+json": {
              "type": "string"
            }
          },
          "metadata": {},
          "execution_count": 21
        }
      ]
    },
    {
      "cell_type": "markdown",
      "source": [
        "# 4. 벅스 뮤직 차트"
      ],
      "metadata": {
        "id": "kxPWBkjGgx_W"
      }
    },
    {
      "cell_type": "code",
      "source": [
        "# 1위 \tLE SSERAFIM (르세라핌) - Perfect Night\n",
        "\n",
        "site = 'https://music.bugs.co.kr/chart'\n",
        "request = requests.get(site)\n",
        "soup = BeautifulSoup(request.text)"
      ],
      "metadata": {
        "id": "xCafvpucjuU1"
      },
      "execution_count": null,
      "outputs": []
    },
    {
      "cell_type": "code",
      "source": [
        "divs = soup.find('div',{'id':'CHARTrealtime'})\n",
        "\n",
        "titles = divs.findAll('p',{'class':'title'})\n",
        "artists = divs.findAll('p',{'class':'artist'})\n",
        "\n",
        "songname = []\n",
        "for i in titles:\n",
        "    songname.append(i.text)\n",
        "\n",
        "realsongname = []\n",
        "for i in songname:\n",
        "    result = i.replace(\"\\n\" , \"\")\n",
        "    realsongname.append(result)\n",
        "\n",
        "singername = []\n",
        "for i in artists:\n",
        "    singername.append(i.text)\n",
        "\n",
        "realsingername = []\n",
        "for i in singername:\n",
        "    result = i.replace(\"\\n\" , \"\")\n",
        "    realsingername.append(result)\n",
        "\n",
        "for i in range(len(singername)):\n",
        "    print(f'{i+1}위 {realsingername[i]} - {realsongname[i]}')"
      ],
      "metadata": {
        "id": "BtEGfcppkoKG"
      },
      "execution_count": null,
      "outputs": []
    },
    {
      "cell_type": "code",
      "source": [
        "request = requests.get('https://music.bugs.co.kr/chart')\n",
        "soup = BeautifulSoup(request.text)\n",
        "\n",
        "titles = soup.findAll('p',{'class':'title'})\n",
        "artists = soup.findAll('p',{'class':'artist'})\n",
        "\n",
        "for i, (t,a) in enumerate(zip(titles, artists)):\n",
        "    title = t.text.strip().replace('[19금]\\n','')\n",
        "    artist = a.text.strip().split('\\n')[0]\n",
        "    print('{0:3d}위 {1}-{2}'.format(1+i,title,artist))"
      ],
      "metadata": {
        "id": "g82OUP5ZvhBj"
      },
      "execution_count": null,
      "outputs": []
    },
    {
      "cell_type": "markdown",
      "source": [
        "# 5. 멜론\n",
        "* robots.txt : 웹 사이트에 크롤러같은 로봇들의 접근을 제어하기 위한 규약(권고안이라 꼭 지킬 의무는 없음)"
      ],
      "metadata": {
        "id": "pitPrt_pswVS"
      }
    },
    {
      "cell_type": "code",
      "source": [
        "request = requests.get('https://www.melon.com/chart/index.htm')\n",
        "print(request) # <Response [406]>"
      ],
      "metadata": {
        "colab": {
          "base_uri": "https://localhost:8080/"
        },
        "id": "fDydjbauvmVV",
        "outputId": "57ccd744-03bb-4060-cbb0-03cc8e9b69f1"
      },
      "execution_count": null,
      "outputs": [
        {
          "output_type": "stream",
          "name": "stdout",
          "text": [
            "<Response [406]>\n"
          ]
        }
      ]
    },
    {
      "cell_type": "code",
      "source": [
        "# User-Agent:\n",
        "# Mozilla/5.0 (Windows NT 10.0; Win64; x64) AppleWebKit/537.36 (KHTML, like Gecko) Chrome/119.0.0.0 Safari/537.36\n",
        "header = {'User-Agent':'Mozilla/5.0 (Windows NT 10.0; Win64; x64)'}\n",
        "request = requests.get('https://www.melon.com/chart/index.htm',headers=header)\n",
        "print(request)\n",
        "\n",
        "soup = BeautifulSoup(request.text)\n",
        "titles = soup.findAll('div',{'class':'rank01'})\n",
        "\n",
        "artists = soup.findAll('span',{'class':'checkEllipsis'})\n",
        "\n",
        "for i, (t,a) in enumerate(zip(titles, artists)):\n",
        "    title = t.text.strip().replace('19금\\n','')\n",
        "    artist = a.text.strip().split('\\n')[0]\n",
        "    print('{0:3d}위 {1}-{2}'.format(1+i,title,artist))"
      ],
      "metadata": {
        "id": "yrIZgHy70WV1"
      },
      "execution_count": null,
      "outputs": []
    },
    {
      "cell_type": "markdown",
      "source": [
        "# 6. 네이버 증권"
      ],
      "metadata": {
        "id": "mUduVmuS1VW5"
      }
    },
    {
      "cell_type": "code",
      "source": [
        "# https://finance.naver.com/item/main.naver?code=042660\n",
        "# 이름, 가격, 종목코드, 거래량\n",
        "# {'price':'100','name':'SK','code':'0000','volumn':'1111'}"
      ],
      "metadata": {
        "id": "kPnjnX4k2i2K"
      },
      "execution_count": null,
      "outputs": []
    },
    {
      "cell_type": "code",
      "source": [
        "request = requests.get('https://finance.naver.com/item/main.naver?code=042660')\n",
        "soup = BeautifulSoup(request.text)\n",
        "\n",
        "# 이름\n",
        "name = soup.find('div',{'class':'wrap_company'})\n",
        "name1 = name.find('h2').text\n",
        "\n",
        "# 가격\n",
        "price = soup.find('div',{'class':'today'})\n",
        "price1 = price.find('span',{'class':'blind'}).text\n",
        "\n",
        "# 종목코드\n",
        "code = soup.find('div',{'class':'description'})\n",
        "code1 = code.find('span',{'class':'code'}).text\n",
        "\n",
        "# 거래량\n",
        "volumn = soup.find('table',{'class':'no_info'})\n",
        "volumn1 = volumn.findAll('span',{'class':'blind'})\n",
        "test = []\n",
        "for i in volumn1:\n",
        "    test.append(i.text)\n",
        "\n",
        "print(f'price:{price1}, name:{name1}, code:{code1}, volumn:{test[3]}')"
      ],
      "metadata": {
        "colab": {
          "base_uri": "https://localhost:8080/"
        },
        "id": "9cVdgwbX4Q5Q",
        "outputId": "978a31bd-d24f-4df0-d0c7-0cc86ab02d34"
      },
      "execution_count": null,
      "outputs": [
        {
          "output_type": "stream",
          "name": "stdout",
          "text": [
            "price:28,200, name:한화오션, code:042660, volumn:1,062,749\n"
          ]
        }
      ]
    },
    {
      "cell_type": "code",
      "source": [
        "site = 'https://finance.naver.com/item/main.naver?code=042660'\n",
        "request = requests.get(site)\n",
        "soup = BeautifulSoup(request.text)\n",
        "\n",
        "div_totalinfo = soup.find('div',{'class':'new_totalinfo'})\n",
        "name = div_totalinfo.find('h2').text\n",
        "\n",
        "div_today = soup.find('div',{'class':'today'})\n",
        "em = div_today.find('em')\n",
        "price = em.find('span',{'class':'blind'}).text\n",
        "\n",
        "code = soup.find('div',{'class':'description'})\n",
        "code1 = code.find('span',{'class':'code'}).text\n",
        "\n",
        "table_no_info = soup.find('table',{'class':'no_info'})\n",
        "tds = table_no_info.findAll('td')\n",
        "volumn = tds[2].find('span',{'class':'blind'}).text\n",
        "\n",
        "dic = {'name':name, 'price':price, 'code':code1, 'volumn':volumn}\n",
        "print(dic)"
      ],
      "metadata": {
        "colab": {
          "base_uri": "https://localhost:8080/"
        },
        "id": "VDVsrQUAIMq9",
        "outputId": "b5f108ce-814f-4607-89ce-db6637a807bc"
      },
      "execution_count": null,
      "outputs": [
        {
          "output_type": "stream",
          "name": "stdout",
          "text": [
            "{'name': '한화오션', 'price': '28,100', 'code': '042660', 'volumn': '1,064,902'}\n"
          ]
        }
      ]
    },
    {
      "cell_type": "code",
      "source": [
        "def naver_finance(code):\n",
        "    site = f'https://finance.naver.com/item/main.naver?code={code}'\n",
        "    request = requests.get(site)\n",
        "    soup = BeautifulSoup(request.text)\n",
        "\n",
        "    div_totalinfo = soup.find('div',{'class':'new_totalinfo'})\n",
        "    name = div_totalinfo.find('h2').text\n",
        "\n",
        "    div_today = soup.find('div',{'class':'today'})\n",
        "    em = div_today.find('em')\n",
        "    price = em.find('span',{'class':'blind'}).text\n",
        "\n",
        "    table_no_info = soup.find('table',{'class':'no_info'})\n",
        "    tds = table_no_info.findAll('td')\n",
        "    volumn = tds[2].find('span',{'class':'blind'}).text\n",
        "\n",
        "    dic = {'name':name, 'price':price, 'code':code, 'volumn':volumn}\n",
        "    return dic"
      ],
      "metadata": {
        "id": "RbE4gbkgW-1I"
      },
      "execution_count": null,
      "outputs": []
    },
    {
      "cell_type": "code",
      "source": [
        "naver_finance('001527')"
      ],
      "metadata": {
        "colab": {
          "base_uri": "https://localhost:8080/"
        },
        "id": "QZ4kAb95Xu6U",
        "outputId": "4b6b951e-6a31-4748-eb26-3f214aac4909"
      },
      "execution_count": null,
      "outputs": [
        {
          "output_type": "execute_result",
          "data": {
            "text/plain": [
              "{'name': '동양2우B', 'price': '14,270', 'code': '001527', 'volumn': '75,635'}"
            ]
          },
          "metadata": {},
          "execution_count": 127
        }
      ]
    },
    {
      "cell_type": "code",
      "source": [
        "codes = ['001527','042660','003280','010120','014915']\n",
        "\n",
        "data = []\n",
        "\n",
        "for code in codes:\n",
        "    dic = naver_finance(code)\n",
        "    data.append(dic)\n",
        "\n",
        "print(data)"
      ],
      "metadata": {
        "colab": {
          "base_uri": "https://localhost:8080/"
        },
        "id": "lZoCbR3HY311",
        "outputId": "ddb5f368-083b-4fc6-b166-f05237d0e030"
      },
      "execution_count": null,
      "outputs": [
        {
          "output_type": "stream",
          "name": "stdout",
          "text": [
            "[{'name': '동양2우B', 'price': '14,270', 'code': '001527', 'volumn': '75,635'}, {'name': '한화오션', 'price': '28,200', 'code': '042660', 'volumn': '1,072,252'}, {'name': '흥아해운', 'price': '2,170', 'code': '003280', 'volumn': '40,197,473'}, {'name': 'LS ELECTRIC', 'price': '76,700', 'code': '010120', 'volumn': '469,311'}, {'name': '성문전자우', 'price': '7,680', 'code': '014915', 'volumn': '3,749'}]\n"
          ]
        }
      ]
    },
    {
      "cell_type": "code",
      "source": [
        "import pandas as pd\n",
        "\n",
        "df = pd.DataFrame(data)\n",
        "df"
      ],
      "metadata": {
        "colab": {
          "base_uri": "https://localhost:8080/",
          "height": 206
        },
        "id": "0Xm8P8IAZDji",
        "outputId": "e6adad91-0c02-483c-ef8d-95ac346e6141"
      },
      "execution_count": null,
      "outputs": [
        {
          "output_type": "execute_result",
          "data": {
            "text/plain": [
              "          name   price    code      volumn\n",
              "0        동양2우B  14,270  001527      75,635\n",
              "1         한화오션  28,200  042660   1,072,252\n",
              "2         흥아해운   2,170  003280  40,197,473\n",
              "3  LS ELECTRIC  76,700  010120     469,311\n",
              "4        성문전자우   7,680  014915       3,749"
            ],
            "text/html": [
              "\n",
              "  <div id=\"df-0768e146-906b-4a83-bc4a-d3448d38e00c\" class=\"colab-df-container\">\n",
              "    <div>\n",
              "<style scoped>\n",
              "    .dataframe tbody tr th:only-of-type {\n",
              "        vertical-align: middle;\n",
              "    }\n",
              "\n",
              "    .dataframe tbody tr th {\n",
              "        vertical-align: top;\n",
              "    }\n",
              "\n",
              "    .dataframe thead th {\n",
              "        text-align: right;\n",
              "    }\n",
              "</style>\n",
              "<table border=\"1\" class=\"dataframe\">\n",
              "  <thead>\n",
              "    <tr style=\"text-align: right;\">\n",
              "      <th></th>\n",
              "      <th>name</th>\n",
              "      <th>price</th>\n",
              "      <th>code</th>\n",
              "      <th>volumn</th>\n",
              "    </tr>\n",
              "  </thead>\n",
              "  <tbody>\n",
              "    <tr>\n",
              "      <th>0</th>\n",
              "      <td>동양2우B</td>\n",
              "      <td>14,270</td>\n",
              "      <td>001527</td>\n",
              "      <td>75,635</td>\n",
              "    </tr>\n",
              "    <tr>\n",
              "      <th>1</th>\n",
              "      <td>한화오션</td>\n",
              "      <td>28,200</td>\n",
              "      <td>042660</td>\n",
              "      <td>1,072,252</td>\n",
              "    </tr>\n",
              "    <tr>\n",
              "      <th>2</th>\n",
              "      <td>흥아해운</td>\n",
              "      <td>2,170</td>\n",
              "      <td>003280</td>\n",
              "      <td>40,197,473</td>\n",
              "    </tr>\n",
              "    <tr>\n",
              "      <th>3</th>\n",
              "      <td>LS ELECTRIC</td>\n",
              "      <td>76,700</td>\n",
              "      <td>010120</td>\n",
              "      <td>469,311</td>\n",
              "    </tr>\n",
              "    <tr>\n",
              "      <th>4</th>\n",
              "      <td>성문전자우</td>\n",
              "      <td>7,680</td>\n",
              "      <td>014915</td>\n",
              "      <td>3,749</td>\n",
              "    </tr>\n",
              "  </tbody>\n",
              "</table>\n",
              "</div>\n",
              "    <div class=\"colab-df-buttons\">\n",
              "\n",
              "  <div class=\"colab-df-container\">\n",
              "    <button class=\"colab-df-convert\" onclick=\"convertToInteractive('df-0768e146-906b-4a83-bc4a-d3448d38e00c')\"\n",
              "            title=\"Convert this dataframe to an interactive table.\"\n",
              "            style=\"display:none;\">\n",
              "\n",
              "  <svg xmlns=\"http://www.w3.org/2000/svg\" height=\"24px\" viewBox=\"0 -960 960 960\">\n",
              "    <path d=\"M120-120v-720h720v720H120Zm60-500h600v-160H180v160Zm220 220h160v-160H400v160Zm0 220h160v-160H400v160ZM180-400h160v-160H180v160Zm440 0h160v-160H620v160ZM180-180h160v-160H180v160Zm440 0h160v-160H620v160Z\"/>\n",
              "  </svg>\n",
              "    </button>\n",
              "\n",
              "  <style>\n",
              "    .colab-df-container {\n",
              "      display:flex;\n",
              "      gap: 12px;\n",
              "    }\n",
              "\n",
              "    .colab-df-convert {\n",
              "      background-color: #E8F0FE;\n",
              "      border: none;\n",
              "      border-radius: 50%;\n",
              "      cursor: pointer;\n",
              "      display: none;\n",
              "      fill: #1967D2;\n",
              "      height: 32px;\n",
              "      padding: 0 0 0 0;\n",
              "      width: 32px;\n",
              "    }\n",
              "\n",
              "    .colab-df-convert:hover {\n",
              "      background-color: #E2EBFA;\n",
              "      box-shadow: 0px 1px 2px rgba(60, 64, 67, 0.3), 0px 1px 3px 1px rgba(60, 64, 67, 0.15);\n",
              "      fill: #174EA6;\n",
              "    }\n",
              "\n",
              "    .colab-df-buttons div {\n",
              "      margin-bottom: 4px;\n",
              "    }\n",
              "\n",
              "    [theme=dark] .colab-df-convert {\n",
              "      background-color: #3B4455;\n",
              "      fill: #D2E3FC;\n",
              "    }\n",
              "\n",
              "    [theme=dark] .colab-df-convert:hover {\n",
              "      background-color: #434B5C;\n",
              "      box-shadow: 0px 1px 3px 1px rgba(0, 0, 0, 0.15);\n",
              "      filter: drop-shadow(0px 1px 2px rgba(0, 0, 0, 0.3));\n",
              "      fill: #FFFFFF;\n",
              "    }\n",
              "  </style>\n",
              "\n",
              "    <script>\n",
              "      const buttonEl =\n",
              "        document.querySelector('#df-0768e146-906b-4a83-bc4a-d3448d38e00c button.colab-df-convert');\n",
              "      buttonEl.style.display =\n",
              "        google.colab.kernel.accessAllowed ? 'block' : 'none';\n",
              "\n",
              "      async function convertToInteractive(key) {\n",
              "        const element = document.querySelector('#df-0768e146-906b-4a83-bc4a-d3448d38e00c');\n",
              "        const dataTable =\n",
              "          await google.colab.kernel.invokeFunction('convertToInteractive',\n",
              "                                                    [key], {});\n",
              "        if (!dataTable) return;\n",
              "\n",
              "        const docLinkHtml = 'Like what you see? Visit the ' +\n",
              "          '<a target=\"_blank\" href=https://colab.research.google.com/notebooks/data_table.ipynb>data table notebook</a>'\n",
              "          + ' to learn more about interactive tables.';\n",
              "        element.innerHTML = '';\n",
              "        dataTable['output_type'] = 'display_data';\n",
              "        await google.colab.output.renderOutput(dataTable, element);\n",
              "        const docLink = document.createElement('div');\n",
              "        docLink.innerHTML = docLinkHtml;\n",
              "        element.appendChild(docLink);\n",
              "      }\n",
              "    </script>\n",
              "  </div>\n",
              "\n",
              "\n",
              "<div id=\"df-6f431400-3697-4fc2-b580-d81fec87c3de\">\n",
              "  <button class=\"colab-df-quickchart\" onclick=\"quickchart('df-6f431400-3697-4fc2-b580-d81fec87c3de')\"\n",
              "            title=\"Suggest charts\"\n",
              "            style=\"display:none;\">\n",
              "\n",
              "<svg xmlns=\"http://www.w3.org/2000/svg\" height=\"24px\"viewBox=\"0 0 24 24\"\n",
              "     width=\"24px\">\n",
              "    <g>\n",
              "        <path d=\"M19 3H5c-1.1 0-2 .9-2 2v14c0 1.1.9 2 2 2h14c1.1 0 2-.9 2-2V5c0-1.1-.9-2-2-2zM9 17H7v-7h2v7zm4 0h-2V7h2v10zm4 0h-2v-4h2v4z\"/>\n",
              "    </g>\n",
              "</svg>\n",
              "  </button>\n",
              "\n",
              "<style>\n",
              "  .colab-df-quickchart {\n",
              "      --bg-color: #E8F0FE;\n",
              "      --fill-color: #1967D2;\n",
              "      --hover-bg-color: #E2EBFA;\n",
              "      --hover-fill-color: #174EA6;\n",
              "      --disabled-fill-color: #AAA;\n",
              "      --disabled-bg-color: #DDD;\n",
              "  }\n",
              "\n",
              "  [theme=dark] .colab-df-quickchart {\n",
              "      --bg-color: #3B4455;\n",
              "      --fill-color: #D2E3FC;\n",
              "      --hover-bg-color: #434B5C;\n",
              "      --hover-fill-color: #FFFFFF;\n",
              "      --disabled-bg-color: #3B4455;\n",
              "      --disabled-fill-color: #666;\n",
              "  }\n",
              "\n",
              "  .colab-df-quickchart {\n",
              "    background-color: var(--bg-color);\n",
              "    border: none;\n",
              "    border-radius: 50%;\n",
              "    cursor: pointer;\n",
              "    display: none;\n",
              "    fill: var(--fill-color);\n",
              "    height: 32px;\n",
              "    padding: 0;\n",
              "    width: 32px;\n",
              "  }\n",
              "\n",
              "  .colab-df-quickchart:hover {\n",
              "    background-color: var(--hover-bg-color);\n",
              "    box-shadow: 0 1px 2px rgba(60, 64, 67, 0.3), 0 1px 3px 1px rgba(60, 64, 67, 0.15);\n",
              "    fill: var(--button-hover-fill-color);\n",
              "  }\n",
              "\n",
              "  .colab-df-quickchart-complete:disabled,\n",
              "  .colab-df-quickchart-complete:disabled:hover {\n",
              "    background-color: var(--disabled-bg-color);\n",
              "    fill: var(--disabled-fill-color);\n",
              "    box-shadow: none;\n",
              "  }\n",
              "\n",
              "  .colab-df-spinner {\n",
              "    border: 2px solid var(--fill-color);\n",
              "    border-color: transparent;\n",
              "    border-bottom-color: var(--fill-color);\n",
              "    animation:\n",
              "      spin 1s steps(1) infinite;\n",
              "  }\n",
              "\n",
              "  @keyframes spin {\n",
              "    0% {\n",
              "      border-color: transparent;\n",
              "      border-bottom-color: var(--fill-color);\n",
              "      border-left-color: var(--fill-color);\n",
              "    }\n",
              "    20% {\n",
              "      border-color: transparent;\n",
              "      border-left-color: var(--fill-color);\n",
              "      border-top-color: var(--fill-color);\n",
              "    }\n",
              "    30% {\n",
              "      border-color: transparent;\n",
              "      border-left-color: var(--fill-color);\n",
              "      border-top-color: var(--fill-color);\n",
              "      border-right-color: var(--fill-color);\n",
              "    }\n",
              "    40% {\n",
              "      border-color: transparent;\n",
              "      border-right-color: var(--fill-color);\n",
              "      border-top-color: var(--fill-color);\n",
              "    }\n",
              "    60% {\n",
              "      border-color: transparent;\n",
              "      border-right-color: var(--fill-color);\n",
              "    }\n",
              "    80% {\n",
              "      border-color: transparent;\n",
              "      border-right-color: var(--fill-color);\n",
              "      border-bottom-color: var(--fill-color);\n",
              "    }\n",
              "    90% {\n",
              "      border-color: transparent;\n",
              "      border-bottom-color: var(--fill-color);\n",
              "    }\n",
              "  }\n",
              "</style>\n",
              "\n",
              "  <script>\n",
              "    async function quickchart(key) {\n",
              "      const quickchartButtonEl =\n",
              "        document.querySelector('#' + key + ' button');\n",
              "      quickchartButtonEl.disabled = true;  // To prevent multiple clicks.\n",
              "      quickchartButtonEl.classList.add('colab-df-spinner');\n",
              "      try {\n",
              "        const charts = await google.colab.kernel.invokeFunction(\n",
              "            'suggestCharts', [key], {});\n",
              "      } catch (error) {\n",
              "        console.error('Error during call to suggestCharts:', error);\n",
              "      }\n",
              "      quickchartButtonEl.classList.remove('colab-df-spinner');\n",
              "      quickchartButtonEl.classList.add('colab-df-quickchart-complete');\n",
              "    }\n",
              "    (() => {\n",
              "      let quickchartButtonEl =\n",
              "        document.querySelector('#df-6f431400-3697-4fc2-b580-d81fec87c3de button');\n",
              "      quickchartButtonEl.style.display =\n",
              "        google.colab.kernel.accessAllowed ? 'block' : 'none';\n",
              "    })();\n",
              "  </script>\n",
              "</div>\n",
              "    </div>\n",
              "  </div>\n"
            ]
          },
          "metadata": {},
          "execution_count": 174
        }
      ]
    },
    {
      "cell_type": "code",
      "source": [
        "df.to_excel('naver_finance.xlsx')"
      ],
      "metadata": {
        "id": "cdKOzoRfaMJL"
      },
      "execution_count": null,
      "outputs": []
    },
    {
      "cell_type": "code",
      "source": [
        "# 과제\n",
        "# 지니 차트 1위 ~ 200위\n",
        "# 반복문을 사용하여 크롤링\n",
        "# https://www.genie.co.kr/chart/top200\n",
        "# https://www.genie.co.kr/chart/top200?ditc=D&ymd=20231122&hh=14&rtm=Y&pg=1\n",
        "# https://www.genie.co.kr/chart/top200?ditc=D&ymd=20231122&hh=14&rtm=Y&pg=1\n",
        "# ...\n",
        "# 엑셀로 내보내기 기능\n",
        "# 과제 제출은 github로 내보내기"
      ],
      "metadata": {
        "id": "5LaEhvp3a5lS"
      },
      "execution_count": null,
      "outputs": []
    },
    {
      "cell_type": "code",
      "source": [
        "# User-Agent:\n",
        "# Mozilla/5.0 (Windows NT 10.0; Win64; x64) AppleWebKit/537.36 (KHTML, like Gecko) Chrome/119.0.0.0 Safari/537.36\n",
        "header = {'User-Agent':'Mozilla/5.0 (Windows NT 10.0; Win64; x64) AppleWebKit'}\n",
        "request = requests.get('https://www.genie.co.kr/chart/top200?ditc=D&ymd=20231122&hh=14&rtm=Y&pg=1',headers=header)\n",
        "soup = BeautifulSoup(request.text)\n",
        "\n",
        "divs = soup.find('div',{'class':'newest-list'})\n",
        "\n",
        "songname = divs.findAll('a',{'class':'title ellipsis'})\n",
        "singername = divs.findAll('a',{'class':'artist ellipsis'})\n",
        "number = divs.findAll('td',{'class':'number'})\n",
        "\n",
        "# 노래\n",
        "songlist = []\n",
        "for i in range(len(songname)):\n",
        "    songlist.append(songname[i].text)\n",
        "\n",
        "song = []\n",
        "for i in range(len(songlist)):\n",
        "    result = songlist[i].replace(\" \",'')\n",
        "    result2 = result.replace('\\n','')\n",
        "    song.append(result2)\n",
        "\n",
        "# 가수\n",
        "singerlist = []\n",
        "for i in range(len(singername)):\n",
        "    singerlist.append(singername[i].text)\n",
        "\n",
        "# 순위\n",
        "numberlist = []\n",
        "for i in range(len(number)):\n",
        "    result = number[i].text.split(' ')[0]\n",
        "    result2 = result.replace('\\n','')\n",
        "    numberlist.append(result2)\n",
        "\n",
        "for i in range(len(number)):\n",
        "    dic = {'순위' : numberlist[i] , '노래' : song[i] , '가수' : singerlist[i]}"
      ],
      "metadata": {
        "id": "8_AN5CerbcrY"
      },
      "execution_count": null,
      "outputs": []
    },
    {
      "cell_type": "code",
      "source": [
        "def genie_chart(code):\n",
        "    header = {'User-Agent':'Mozilla/5.0 (Windows NT 10.0; Win64; x64) AppleWebKit'}\n",
        "    request = requests.get(f'https://www.genie.co.kr/chart/top200?ditc=D&ymd=20231122&hh=14&rtm=Y&pg={code}',headers=header)\n",
        "    soup = BeautifulSoup(request.text)\n",
        "\n",
        "    divs = soup.find('div',{'class':'newest-list'})\n",
        "\n",
        "    songname = divs.findAll('a',{'class':'title ellipsis'})\n",
        "    singername = divs.findAll('a',{'class':'artist ellipsis'})\n",
        "    number = divs.findAll('td',{'class':'number'})\n",
        "\n",
        "    # 노래\n",
        "    songlist = []\n",
        "    for i in range(len(songname)):\n",
        "        songlist.append(songname[i].text)\n",
        "\n",
        "    song = []\n",
        "    for i in range(len(songlist)):\n",
        "        result = songlist[i].replace(\" \",'')\n",
        "        result2 = result.replace('\\n','')\n",
        "        song.append(result2)\n",
        "\n",
        "    # 가수\n",
        "    singerlist = []\n",
        "    for i in range(len(singername)):\n",
        "        singerlist.append(singername[i].text)\n",
        "\n",
        "    # 순위\n",
        "    numberlist = []\n",
        "    for i in range(len(number)):\n",
        "        result = number[i].text.split(' ')[0]\n",
        "        result2 = result.replace('\\n','')\n",
        "        numberlist.append(result2)\n",
        "\n",
        "    # 최종 데이터\n",
        "    total = []\n",
        "    for i in range(len(number)):\n",
        "        dic = {'순위' : numberlist[i] , '노래' : song[i] , '가수' : singerlist[i]}\n",
        "        total.append(dic)\n",
        "\n",
        "    return total"
      ],
      "metadata": {
        "id": "eswdpqeEfH_2"
      },
      "execution_count": null,
      "outputs": []
    },
    {
      "cell_type": "code",
      "source": [
        "codes = ['1','2','3','4']\n",
        "\n",
        "data = []\n",
        "\n",
        "for code in codes:\n",
        "    dic = genie_chart(code)\n",
        "    data.append(dic)\n",
        "\n",
        "\n",
        "import pandas as pd\n",
        "\n",
        "df = pd.DataFrame(data)\n",
        "df\n",
        "\n",
        "df.to_excel('naver_finance.xlsx')"
      ],
      "metadata": {
        "id": "0mlAY-RSyQKB"
      },
      "execution_count": null,
      "outputs": []
    }
  ]
}